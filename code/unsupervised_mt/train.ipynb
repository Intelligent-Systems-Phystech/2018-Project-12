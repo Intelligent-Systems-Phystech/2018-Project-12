{
 "cells": [
  {
   "cell_type": "code",
   "execution_count": 1,
   "metadata": {},
   "outputs": [
    {
     "name": "stdout",
     "output_type": "stream",
     "text": [
      "cuda\n"
     ]
    }
   ],
   "source": [
    "%load_ext autoreload\n",
    "%autoreload 2\n",
    "\n",
    "from unsupervised_mt.dataset import Dataset\n",
    "from unsupervised_mt.train import Trainer \n",
    "from unsupervised_mt.models import Embedding, Encoder, DecoderHat, Attention, Discriminator\n",
    "from unsupervised_mt.batch_iterator import BatchIterator\n",
    "from unsupervised_mt.utils import log_probs2indices, noise\n",
    "\n",
    "from functools import partial\n",
    "import torch\n",
    "import torch.nn as nn\n",
    "from tqdm import tqdm_notebook as tqdm\n",
    "\n",
    "\n",
    "device = torch.device(\"cuda\" if torch.cuda.is_available() else \"cpu\")\n",
    "print(device)"
   ]
  },
  {
   "cell_type": "code",
   "execution_count": 2,
   "metadata": {},
   "outputs": [],
   "source": [
    "ds = Dataset(languages=('src', 'tgt'), \n",
    "             corp_paths=('../data/train.lc.norm.tok.en', '../data/train.lc.norm.tok.fr'), \n",
    "             emb_paths=('../data/wiki.multi.en.vec', '../data/wiki.multi.fr.vec'))"
   ]
  },
  {
   "cell_type": "code",
   "execution_count": 3,
   "metadata": {},
   "outputs": [],
   "source": [
    "batch_iter = BatchIterator(ds)"
   ]
  },
  {
   "cell_type": "code",
   "execution_count": 4,
   "metadata": {},
   "outputs": [],
   "source": [
    "hidden_size = 100\n",
    "num_layers = 3\n",
    "\n",
    "src_embedding = Embedding(ds.emb_matrix['src']).to(device)\n",
    "tgt_embedding = Embedding(ds.emb_matrix['tgt']).to(device)\n",
    "encoder_rnn = nn.GRU(input_size=src_embedding.embedding_dim, hidden_size=hidden_size, num_layers=num_layers)\n",
    "decoder_rnn = nn.GRU(input_size=src_embedding.embedding_dim, hidden_size=hidden_size, num_layers=num_layers)\n",
    "attention = Attention(src_embedding.embedding_dim, hidden_size, max_length=ds.max_length)\n",
    "src_hat = DecoderHat(hidden_size, ds.vocabs['src'].size)\n",
    "tgt_hat = DecoderHat(hidden_size, ds.vocabs['tgt'].size)\n",
    "discriminator = Discriminator(hidden_size)\n",
    "\n",
    "trainer = Trainer(partial(ds.translate_batch_word_by_word, language1='src', language2='tgt'), \n",
    "                  partial(ds.translate_batch_word_by_word, language1='tgt', language2='src'), \n",
    "                  src_embedding, tgt_embedding, encoder_rnn, decoder_rnn, attention, src_hat, tgt_hat, \n",
    "                  discriminator, \n",
    "                  ds.get_sos_index('src'), ds.get_sos_index('tgt'), \n",
    "                  ds.get_eos_index('src'), ds.get_eos_index('tgt'), \n",
    "                  ds.get_pad_index('src'), ds.get_pad_index('tgt'), \n",
    "                  device)"
   ]
  },
  {
   "cell_type": "code",
   "execution_count": null,
   "metadata": {},
   "outputs": [
    {
     "data": {
      "application/vnd.jupyter.widget-view+json": {
       "model_id": "86b1a3ac1d9a427f8a4cd85d062be923",
       "version_major": 2,
       "version_minor": 0
      },
      "text/plain": [
       "HBox(children=(IntProgress(value=0, max=10000), HTML(value='')))"
      ]
     },
     "metadata": {},
     "output_type": "display_data"
    }
   ],
   "source": [
    "batch_size = 50\n",
    "num_steps = 10000\n",
    "\n",
    "for i in tqdm(range(num_steps)):\n",
    "    trainer.train_step(batch_iter.load_batch(batch_size))"
   ]
  },
  {
   "cell_type": "code",
   "execution_count": 38,
   "metadata": {},
   "outputs": [
    {
     "name": "stdout",
     "output_type": "stream",
     "text": [
      "['un', 'homme', 'savoure', 'un', 'sandwich', 'subway', '.', '<eos>']\n",
      "['swerves', 'swerves', 'job', 'job', 'job', 'job', 'job', 'job', 'job', 'job', 'urban', 'urban', 'urban', 'urban', 'urban', 'urban', 'urban', 'urban', 'urban', 'urban']\n"
     ]
    }
   ],
   "source": [
    "batch = batch_iter.load_batch(1)\n",
    "ds.print_batch(batch['tgt'], 'tgt')\n",
    "ds.print_batch(\n",
    "    log_probs2indices(trainer.tgt2src.evaluate(batch['tgt'].to(device), ds.get_sos_index('src'), ds.get_eos_index('src'), 20)), 'src'\n",
    ")"
   ]
  },
  {
   "cell_type": "code",
   "execution_count": null,
   "metadata": {},
   "outputs": [],
   "source": []
  }
 ],
 "metadata": {
  "kernelspec": {
   "display_name": "Python 3",
   "language": "python",
   "name": "python3"
  },
  "language_info": {
   "codemirror_mode": {
    "name": "ipython",
    "version": 3
   },
   "file_extension": ".py",
   "mimetype": "text/x-python",
   "name": "python",
   "nbconvert_exporter": "python",
   "pygments_lexer": "ipython3",
   "version": "3.6.5"
  },
  "toc": {
   "nav_menu": {},
   "number_sections": false,
   "sideBar": true,
   "skip_h1_title": false,
   "title_cell": "Table of Contents",
   "title_sidebar": "Contents",
   "toc_cell": false,
   "toc_position": {},
   "toc_section_display": true,
   "toc_window_display": false
  }
 },
 "nbformat": 4,
 "nbformat_minor": 2
}
