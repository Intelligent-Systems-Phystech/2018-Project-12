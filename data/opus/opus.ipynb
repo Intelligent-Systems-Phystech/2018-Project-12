{
 "cells": [
  {
   "cell_type": "code",
   "execution_count": 51,
   "metadata": {},
   "outputs": [
    {
     "name": "stdout",
     "output_type": "stream",
     "text": [
      "['идут', 'филиппа', 'олимпиаде', 'скоро']\n",
      "['в', 'и', 'на', 'с', 'года']\n"
     ]
    }
   ],
   "source": [
    "def make_dict(filename:str, dict_len:int):\n",
    "    _dict = []\n",
    "    with open(filename) as ru:\n",
    "        for line in ru:\n",
    "            dict_len -= 1\n",
    "            _dict.append(line.split(' ')[0])\n",
    "            if 0 == dict_len:\n",
    "                break\n",
    "    return _dict\n",
    "\n",
    "ru_dict = make_dict('dict.ru', 5000)\n",
    "uk_dict = make_dict('dict.ru', 5000)\n",
    "\n",
    "print(ru_dict[-5:-1])\n",
    "print(uk_dict[:5])"
   ]
  },
  {
   "cell_type": "code",
   "execution_count": 8,
   "metadata": {},
   "outputs": [
    {
     "name": "stdout",
     "output_type": "stream",
     "text": [
      "37402\n"
     ]
    }
   ],
   "source": [
    "import re\n",
    "\n",
    "ru_subs = 'OpenSubtitles2018.ru-uk.ru'\n",
    "uk_subs = 'OpenSubtitles2018.ru-uk.uk'\n",
    "ru_samples = 'samples.ru'\n",
    "uk_samples = 'samples.uk'\n",
    "rate = 0.65\n",
    "\n",
    "def make_samples(ru_subs=ru_subs, ru_samples=ru_samples, ru_dict=ru_dict,\\\n",
    "                 uk_subs=uk_subs, uk_samples=uk_samples, uk_dict=uk_dict,\\\n",
    "                 rate=rate):\n",
    "    \"\"\"\n",
    "    Make samples from files ru_subs, uk_subs to files ru_samples, uk_samples\n",
    "    using dictionaries ru_dict, uk_dict\n",
    "    \n",
    "    return: number of samples\n",
    "    \"\"\"\n",
    "    with open(ru_subs, encoding='utf-8') as ru,\\\n",
    "        open(uk_subs, encoding='utf-8') as uk,\\\n",
    "        open(ru_samples, 'w', encoding='utf-8') as ru_samp,\\\n",
    "        open(uk_samples, 'w', encoding='utf-8') as uk_samp:\n",
    "        while True:\n",
    "            # Считывание предложений построчно из параллельных корпусов\n",
    "            ru_line = ru.readline()\n",
    "            uk_line = uk.readline()\n",
    "\n",
    "            if len(ru_line) == 0:\n",
    "                break\n",
    "            \n",
    "            # Разбивка предложений на слова\n",
    "            ru_line_words = re.split('[^\\w]+', ru_line.lower())\n",
    "            uk_line_words = re.split('[^\\w]+', uk_line.lower())\n",
    "\n",
    "            ru_counter = 0\n",
    "            uk_counter = 0\n",
    "\n",
    "            # Проверка на совпадение предложений\n",
    "            res = list(set(ru_line_words) - set(uk_line_words))\n",
    "            if not res:\n",
    "                continue\n",
    "            \n",
    "            # Проверка наличия минимум <rate> слов в русском предложении\n",
    "            for ru_word in ru_line_words:\n",
    "                if ru_word in ru_dict:\n",
    "                    ru_counter += 1\n",
    "            if ru_counter / len(ru_line_words) < rate:\n",
    "                continue\n",
    "            \n",
    "            # Проверка наличия минимум <rate> слов в украинском предложении\n",
    "            for uk_word in uk_line_words:\n",
    "                if uk_word in uk_dict:\n",
    "                    uk_counter += 1\n",
    "            if uk_counter / len(uk_line_words) < rate:\n",
    "                continue\n",
    "            \n",
    "            # Если все проверки прошли, то запись параллельных предложений в итоговую выборку\n",
    "            ru_samp.write(ru_line)\n",
    "            uk_samp.write(uk_line)\n",
    "        \n",
    "    with open(uk_samples, encoding='utf-8') as uk:\n",
    "        return len(uk.readlines())\n",
    "        \n",
    "samples_num = make_samples()\n",
    "print(samples_num)"
   ]
  }
 ],
 "metadata": {
  "kernelspec": {
   "display_name": "Python 3",
   "language": "python",
   "name": "python3"
  },
  "language_info": {
   "codemirror_mode": {
    "name": "ipython",
    "version": 3
   },
   "file_extension": ".py",
   "mimetype": "text/x-python",
   "name": "python",
   "nbconvert_exporter": "python",
   "pygments_lexer": "ipython3",
   "version": "3.6.5"
  }
 },
 "nbformat": 4,
 "nbformat_minor": 2
}
