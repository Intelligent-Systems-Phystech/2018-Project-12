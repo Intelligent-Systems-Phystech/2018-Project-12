{
 "cells": [
  {
   "cell_type": "code",
   "execution_count": 12,
   "metadata": {},
   "outputs": [
    {
     "name": "stdout",
     "output_type": "stream",
     "text": [
      "['в', 'и', 'на', 'с', 'года']\n"
     ]
    }
   ],
   "source": [
    "ru_dict = []\n",
    "with open('dict.ru') as ru:\n",
    "    for line in ru:\n",
    "        ru_dict.append(line.split(' ')[0])\n",
    "        \n",
    "print(ru_dict[:5])"
   ]
  },
  {
   "cell_type": "code",
   "execution_count": 4,
   "metadata": {},
   "outputs": [
    {
     "name": "stdout",
     "output_type": "stream",
     "text": [
      "['в', 'у', 'на', 'і', 'з']\n"
     ]
    }
   ],
   "source": [
    "uk_dict = []\n",
    "with open('dict.uk') as uk:\n",
    "    for line in uk:\n",
    "        uk_dict.append(line.split(' ')[0])\n",
    "        \n",
    "print(uk_dict[:5])"
   ]
  },
  {
   "cell_type": "code",
   "execution_count": 60,
   "metadata": {},
   "outputs": [],
   "source": [
    "import re\n",
    "\n",
    "ru_subs = 'OpenSubtitles2018.ru-uk.ru'\n",
    "uk_subs = 'OpenSubtitles2018.ru-uk.uk'\n",
    "ru_samples = 'samples.ru'\n",
    "uk_samples = 'samples.uk'\n",
    "\n",
    "rate = 0.75\n",
    "\n",
    "with open(ru_subs, encoding='utf-8') as ru,\\\n",
    "    open(uk_subs, encoding='utf-8') as uk,\\\n",
    "    open(ru_samples, 'w', encoding='utf-8') as ru_samp,\\\n",
    "    open(uk_samples, 'w', encoding='utf-8') as uk_samp:\n",
    "    while True:\n",
    "        ru_line = ru.readline()\n",
    "        uk_line = uk.readline()\n",
    "        \n",
    "        if len(ru_line) == 0:\n",
    "            break\n",
    "        \n",
    "        ru_line_words = re.split('[^\\w]+', ru_line.lower())\n",
    "        uk_line_words = re.split('[^\\w]+', uk_line.lower())\n",
    "        \n",
    "        ru_counter = 0\n",
    "        uk_counter = 0\n",
    "        \n",
    "        for ru_word in ru_line_words:\n",
    "            if ru_word in ru_dict:\n",
    "                ru_counter += 1\n",
    "        if ru_counter / len(ru_line_words) < rate:\n",
    "            continue\n",
    "                \n",
    "        for uk_word in uk_line_words:\n",
    "            if uk_word in uk_line_words:\n",
    "                uk_counter += 1\n",
    "        if uk_counter / len(uk_line_words) < rate:\n",
    "            continue\n",
    "            \n",
    "        ru_samp.write(ru_line)\n",
    "        uk_samp.write(uk_line)"
   ]
  },
  {
   "cell_type": "code",
   "execution_count": 61,
   "metadata": {},
   "outputs": [
    {
     "name": "stdout",
     "output_type": "stream",
     "text": [
      "49091\n"
     ]
    }
   ],
   "source": [
    "with open(uk_samples, encoding='utf-8') as uk:\n",
    "    print(len(uk.readlines()))"
   ]
  },
  {
   "cell_type": "code",
   "execution_count": null,
   "metadata": {},
   "outputs": [],
   "source": []
  }
 ],
 "metadata": {
  "kernelspec": {
   "display_name": "Python 3",
   "language": "python",
   "name": "python3"
  },
  "language_info": {
   "codemirror_mode": {
    "name": "ipython",
    "version": 3
   },
   "file_extension": ".py",
   "mimetype": "text/x-python",
   "name": "python",
   "nbconvert_exporter": "python",
   "pygments_lexer": "ipython3",
   "version": "3.6.5"
  }
 },
 "nbformat": 4,
 "nbformat_minor": 2
}
