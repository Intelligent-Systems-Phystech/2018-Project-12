{
 "cells": [
  {
   "cell_type": "code",
   "execution_count": 2,
   "metadata": {},
   "outputs": [
    {
     "name": "stdout",
     "output_type": "stream",
     "text": [
      "['в', 'и', 'на', 'с', 'года']\n"
     ]
    }
   ],
   "source": [
    "ru_dict = []\n",
    "with open('dict.ru', encoding='cp1251') as ru:\n",
    "    for line in ru:\n",
    "        ru_dict.append(line.split(' ')[0])\n",
    "        \n",
    "print(ru_dict[:5])"
   ]
  },
  {
   "cell_type": "code",
   "execution_count": 3,
   "metadata": {},
   "outputs": [
    {
     "name": "stdout",
     "output_type": "stream",
     "text": [
      "['в', 'у', 'на', 'і', 'з']\n"
     ]
    }
   ],
   "source": [
    "uk_dict = []\n",
    "with open('dict.uk', encoding='cp1251') as uk:\n",
    "    for line in uk:\n",
    "        uk_dict.append(line.split(' ')[0])\n",
    "        \n",
    "print(uk_dict[:5])"
   ]
  },
  {
   "cell_type": "code",
   "execution_count": 4,
   "metadata": {},
   "outputs": [],
   "source": [
    "import re\n",
    "\n",
    "ru_subs = 'OpenSubtitles2018.ru-uk.ru'\n",
    "uk_subs = 'OpenSubtitles2018.ru-uk.uk'\n",
    "ru_samples = 'samples.ru'\n",
    "uk_samples = 'samples.uk'\n",
    "\n",
    "rate = 0.75\n",
    "\n",
    "with open(ru_subs, encoding='utf-8') as ru,\\\n",
    "    open(uk_subs, encoding='utf-8') as uk,\\\n",
    "    open(ru_samples, 'w', encoding='utf-8') as ru_samp,\\\n",
    "    open(uk_samples, 'w', encoding='utf-8') as uk_samp:\n",
    "    while True:\n",
    "        ru_line = ru.readline()\n",
    "        uk_line = uk.readline()\n",
    "        \n",
    "        if len(ru_line) == 0:\n",
    "            break\n",
    "        \n",
    "        ru_line_words = re.split('[^\\w]+', ru_line.lower())\n",
    "        uk_line_words = re.split('[^\\w]+', uk_line.lower())\n",
    "        \n",
    "        ru_counter = 0\n",
    "        uk_counter = 0\n",
    "        \n",
    "        for ru_word in ru_line_words:\n",
    "            if ru_word in ru_dict:\n",
    "                ru_counter += 1\n",
    "        if ru_counter / len(ru_line_words) < rate:\n",
    "            continue\n",
    "                \n",
    "        for uk_word in uk_line_words:\n",
    "            if uk_word in uk_dict:\n",
    "                uk_counter += 1\n",
    "        if uk_counter / len(uk_line_words) < rate:\n",
    "            continue\n",
    "            \n",
    "        ru_samp.write(ru_line)\n",
    "        uk_samp.write(uk_line)"
   ]
  },
  {
   "cell_type": "code",
   "execution_count": 7,
   "metadata": {},
   "outputs": [
    {
     "name": "stdout",
     "output_type": "stream",
     "text": [
      "12079\n"
     ]
    }
   ],
   "source": [
    "with open(ru_samples, encoding='utf-8') as uk:\n",
    "    print(len(uk.readlines()))"
   ]
  }
 ],
 "metadata": {
  "kernelspec": {
   "display_name": "Python 3",
   "language": "python",
   "name": "python3"
  },
  "language_info": {
   "codemirror_mode": {
    "name": "ipython",
    "version": 3
   },
   "file_extension": ".py",
   "mimetype": "text/x-python",
   "name": "python",
   "nbconvert_exporter": "python",
   "pygments_lexer": "ipython3",
   "version": "3.7.1"
  },
  "toc": {
   "nav_menu": {},
   "number_sections": true,
   "sideBar": true,
   "skip_h1_title": false,
   "title_cell": "Table of Contents",
   "title_sidebar": "Contents",
   "toc_cell": false,
   "toc_position": {},
   "toc_section_display": true,
   "toc_window_display": false
  }
 },
 "nbformat": 4,
 "nbformat_minor": 2
}
