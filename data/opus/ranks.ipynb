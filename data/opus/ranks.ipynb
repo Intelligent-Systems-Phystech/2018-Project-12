{
 "cells": [
  {
   "cell_type": "markdown",
   "metadata": {},
   "source": [
    "# Построение гистограммы рангов частот предложений\n",
    "\n",
    "Рангом будем называть максимальную частоту, которую нужно взять в словаре, чтобы можно было построить предложение."
   ]
  },
  {
   "cell_type": "markdown",
   "metadata": {},
   "source": [
    "## Создание словарей языковых словарей\n",
    "\n",
    "Словари взяты из википедии"
   ]
  },
  {
   "cell_type": "markdown",
   "metadata": {},
   "source": [
    "1. Функция генерирующая языковой словарь на основе данного словаря:"
   ]
  },
  {
   "cell_type": "code",
   "execution_count": 23,
   "metadata": {},
   "outputs": [],
   "source": [
    "def make_dict(filename:str, dict_len:int):\n",
    "    _dict = {}\n",
    "    with open(filename) as file:\n",
    "        for i, line in enumerate(file, 1):\n",
    "            _dict[line.split(' ')[0]] = i\n",
    "            if i == dict_len:\n",
    "                break\n",
    "    return _dict"
   ]
  },
  {
   "cell_type": "markdown",
   "metadata": {},
   "source": [
    "2. Создание русского и украинского словарей:"
   ]
  },
  {
   "cell_type": "code",
   "execution_count": 31,
   "metadata": {},
   "outputs": [],
   "source": [
    "ru_dict = make_dict('dict.ru', -1)\n",
    "uk_dict = make_dict('dict.uk', -1)"
   ]
  },
  {
   "cell_type": "markdown",
   "metadata": {},
   "source": [
    "3. Примеры выборок из языковых словарей:"
   ]
  },
  {
   "cell_type": "code",
   "execution_count": 32,
   "metadata": {},
   "outputs": [
    {
     "name": "stdout",
     "output_type": "stream",
     "text": [
      "['в', 'и', 'на', 'с', 'года']\n",
      "[21, 22, 23, 24, 25]\n",
      "['землевпорядкування', 'компактними', 'свалява', 'яєчних', 'поглинуло', 'десяткової', 'гібридизація', 'вовчанськ', 'рендалл', 'домовласників']\n"
     ]
    }
   ],
   "source": [
    "print(list(ru_dict.keys())[:5])\n",
    "print(list(ru_dict.values())[20:25])\n",
    "print(list(uk_dict.keys())[-10:])"
   ]
  },
  {
   "cell_type": "markdown",
   "metadata": {},
   "source": [
    "## Создание списков предложений\n",
    "\n",
    "Предложение здесь -- список слов предложения в нижнем регистре из данного корпуса, т.е. можно работать с языковым словарем"
   ]
  },
  {
   "cell_type": "markdown",
   "metadata": {},
   "source": [
    "1. Функция, реализующая разбиение в списки на основе данного корпуса"
   ]
  },
  {
   "cell_type": "code",
   "execution_count": 16,
   "metadata": {},
   "outputs": [],
   "source": [
    "import re\n",
    "\n",
    "def make_sentences(filename:str, encoding='utf-8'):\n",
    "    # Загрузка всех предложений из файла в список\n",
    "    sentences = []\n",
    "    with open(filename, encoding=encoding) as file:\n",
    "        sentences = file.readlines()\n",
    "    \n",
    "    # Разбиение предложений на слова в нижнем регистре\n",
    "    words = []\n",
    "    for sentence in sentences:\n",
    "        words.append(re.split('[^\\w]+', sentence.lower())[:-1])\n",
    "    \n",
    "    return words"
   ]
  },
  {
   "cell_type": "markdown",
   "metadata": {},
   "source": [
    "2. Создание русского и украинского списков предложений"
   ]
  },
  {
   "cell_type": "code",
   "execution_count": 17,
   "metadata": {},
   "outputs": [],
   "source": [
    "ru_sentences = make_sentences('OpenSubtitles2018.ru-uk.ru')\n",
    "uk_sentences = make_sentences('OpenSubtitles2018.ru-uk.uk')"
   ]
  },
  {
   "cell_type": "markdown",
   "metadata": {},
   "source": [
    "3. Примеры созданных предложений"
   ]
  },
  {
   "cell_type": "code",
   "execution_count": 18,
   "metadata": {},
   "outputs": [
    {
     "name": "stdout",
     "output_type": "stream",
     "text": [
      "['иными', 'словами', 'это', 'не', 'будет', 'новой', 'трактовкой', 'в', 'исполнении', 'обученных', 'музыкантов', 'и', 'я', 'думаю', 'это', 'только', 'к', 'лучшему']\n",
      "[['зараз', 'ви', 'побачите', 'узори', 'картини', 'і', 'історії', 'що', 'створені', 'уявою', 'групи', 'художників', 'під', 'впливом', 'музики'], ['це', 'не', 'буде', 'новим', 'тлумаченням', 'музики', 'музикантами', 'і', 'для', 'нас', 'це', 'тільки', 'на', 'краще'], ['у', 'нашій', 'фантазії', 'звучатиме', 'три', 'типи', 'музики']]\n"
     ]
    }
   ],
   "source": [
    "print(ru_sentences[4])\n",
    "print(uk_sentences[3:6])"
   ]
  },
  {
   "cell_type": "markdown",
   "metadata": {},
   "source": [
    "## Нахождение рангов предложений\n",
    "\n",
    "Пояснение: пусть у нас есть предложение из двух слов. Првое предложение встречается в нашем частотном словаре на 5-ом месте, второе слово -- на 10-ом. Тогда ранг предложения -- 10. Если есть слово, которое вообще не встретилось в словаре, ставим ему максимальный ранг, соответствующий длине словаря."
   ]
  },
  {
   "cell_type": "markdown",
   "metadata": {},
   "source": [
    "1. Функция, реализующая нахождение рангов предложений из списка предложений по списку языкового словаря"
   ]
  },
  {
   "cell_type": "code",
   "execution_count": 38,
   "metadata": {},
   "outputs": [],
   "source": [
    "def calculate_ranks(sentences:list, lang_dict:dict):\n",
    "    ranks = []\n",
    "    max_rank = len(lang_dict)\n",
    "    for sentence in sentences:\n",
    "        rank = 0\n",
    "        for word in sentence:\n",
    "            rank = max(lang_dict.get(word, max_rank), rank)\n",
    "            if rank == max_rank:\n",
    "                break\n",
    "        ranks.append(rank)\n",
    "    return ranks"
   ]
  },
  {
   "cell_type": "markdown",
   "metadata": {},
   "source": [
    "2. Вычисление рангов русских и украинских предложений"
   ]
  },
  {
   "cell_type": "code",
   "execution_count": 46,
   "metadata": {},
   "outputs": [],
   "source": [
    "ru_ranks = calculate_ranks(ru_sentences, ru_dict)\n",
    "uk_ranks = calculate_ranks(uk_sentences, uk_dict)"
   ]
  },
  {
   "cell_type": "markdown",
   "metadata": {},
   "source": [
    "## Построение гистограммы"
   ]
  },
  {
   "cell_type": "markdown",
   "metadata": {},
   "source": [
    "1. Настройка отображения"
   ]
  },
  {
   "cell_type": "code",
   "execution_count": 40,
   "metadata": {},
   "outputs": [],
   "source": [
    "from matplotlib import pylab as plt\n",
    "\n",
    "plt.rcParams['font.family'] = 'serif'\n",
    "plt.rcParams['font.serif'] = 'FreeSerif'\n",
    "plt.rcParams['lines.linewidth'] = 2\n",
    "plt.rcParams['lines.markersize'] = 12\n",
    "plt.rcParams['xtick.labelsize'] = 24\n",
    "plt.rcParams['ytick.labelsize'] = 24\n",
    "plt.rcParams['legend.fontsize'] = 24\n",
    "plt.rcParams['axes.titlesize'] = 36\n",
    "plt.rcParams['axes.labelsize'] = 24"
   ]
  },
  {
   "cell_type": "markdown",
   "metadata": {},
   "source": [
    "2. Гистограмма рангов предложений для корпуса русских предложений"
   ]
  },
  {
   "cell_type": "code",
   "execution_count": 45,
   "metadata": {},
   "outputs": [
    {
     "name": "stderr",
     "output_type": "stream",
     "text": [
      "C:\\Users\\Egor\\Anaconda3\\lib\\site-packages\\matplotlib\\font_manager.py:1328: UserWarning: findfont: Font family ['serif'] not found. Falling back to DejaVu Sans\n",
      "  (prop.get_family(), self.defaultFamily[fontext]))\n"
     ]
    },
    {
     "data": {
      "image/png": "[encoded data removed]",
      "text/plain": [
       "<Figure size 720x504 with 1 Axes>"
      ]
     },
     "metadata": {},
     "output_type": "display_data"
    }
   ],
   "source": [
    "plt.figure(figsize=(10,7))\n",
    "plt.hist(ru_ranks, bins=50, density=True)\n",
    "plt.show()"
   ]
  },
  {
   "cell_type": "markdown",
   "metadata": {},
   "source": [
    "3. Гистограмма рангов предложений для корпуса украинских предложений"
   ]
  },
  {
   "cell_type": "code",
   "execution_count": 47,
   "metadata": {},
   "outputs": [
    {
     "name": "stderr",
     "output_type": "stream",
     "text": [
      "C:\\Users\\Egor\\Anaconda3\\lib\\site-packages\\matplotlib\\font_manager.py:1328: UserWarning: findfont: Font family ['serif'] not found. Falling back to DejaVu Sans\n",
      "  (prop.get_family(), self.defaultFamily[fontext]))\n"
     ]
    },
    {
     "data": {
      "image/png": "[encoded data removed]",
      "text/plain": [
       "<Figure size 720x504 with 1 Axes>"
      ]
     },
     "metadata": {},
     "output_type": "display_data"
    }
   ],
   "source": [
    "plt.figure(figsize=(10,7))\n",
    "plt.hist(uk_ranks, bins=50, density=True)\n",
    "plt.show()"
   ]
  },
  {
   "cell_type": "code",
   "execution_count": null,
   "metadata": {},
   "outputs": [],
   "source": []
  }
 ],
 "metadata": {
  "kernelspec": {
   "display_name": "Python 3",
   "language": "python",
   "name": "python3"
  },
  "language_info": {
   "codemirror_mode": {
    "name": "ipython",
    "version": 3
   },
   "file_extension": ".py",
   "mimetype": "text/x-python",
   "name": "python",
   "nbconvert_exporter": "python",
   "pygments_lexer": "ipython3",
   "version": "3.6.5"
  }
 },
 "nbformat": 4,
 "nbformat_minor": 2
}
