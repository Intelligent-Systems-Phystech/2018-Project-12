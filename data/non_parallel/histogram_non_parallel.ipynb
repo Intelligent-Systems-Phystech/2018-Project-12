{
 "cells": [
  {
   "cell_type": "code",
   "execution_count": 13,
   "metadata": {},
   "outputs": [],
   "source": [
    "import pandas as pd\n",
    "import matplotlib.pyplot as plt\n",
    "%matplotlib inline\n",
    "import codecs\n",
    "import re"
   ]
  },
  {
   "cell_type": "code",
   "execution_count": 14,
   "metadata": {},
   "outputs": [],
   "source": [
    "ru_dict = []\n",
    "uk_dict = []\n",
    "ru_sen = []\n",
    "uk_sen = []"
   ]
  },
  {
   "cell_type": "code",
   "execution_count": 15,
   "metadata": {},
   "outputs": [],
   "source": [
    "ru_dict = pd.read_csv('ru.txt', sep = ' ', names=['words', 'freq'])\n",
    "uk_dict = pd.read_csv('uk.txt', sep = ' ', names=['words', 'freq'])\n",
    "\n",
    "ru_dict_words = list(ru_dict['words'])\n",
    "ru_dict_freq = list(ru_dict['freq'])\n",
    "\n",
    "uk_dict_words = list(ru_dict['words'])\n",
    "uk_dict_freq = list(ru_dict['freq'])\n",
    "\n",
    "dic_ru = {}\n",
    "dic_ukr = {}\n",
    "for x in range(len(ru_dict_words)):\n",
    "    dic_ru[ru_dict_words[x]] = x+1\n",
    "\n",
    "for x in range(len(uk_dict_words)):\n",
    "    dic_ukr[uk_dict_words[x]] = x+1\n",
    "\n",
    "len_ru_dict = len(ru_dict_words)\n",
    "len_uk_dict = len(uk_dict_words)\n"
   ]
  },
  {
   "cell_type": "markdown",
   "metadata": {},
   "source": [
    "### russian"
   ]
  },
  {
   "cell_type": "code",
   "execution_count": 16,
   "metadata": {},
   "outputs": [],
   "source": [
    "res = []\n",
    "ru_sen_splitted_by_dot = []\n",
    "with open('ru_res.txt', 'r') as f:\n",
    "    ru_sen = f.read().splitlines()\n",
    "for x in ru_sen:\n",
    "    ru_sen_splitted_by_dot.append(re.split('\\.', x))\n",
    "for sentence in ru_sen_splitted_by_dot:\n",
    "        for x in sentence:\n",
    "            res.append(re.split('[^а-яА-Яё]+', x))\n",
    "for num1, sen in enumerate(res):\n",
    "        for num2, senn in enumerate(sen):\n",
    "                sen[num2] = senn.lower()\n",
    "res = [x for x in res if x!=['']]"
   ]
  },
  {
   "cell_type": "code",
   "execution_count": 17,
   "metadata": {},
   "outputs": [],
   "source": [
    "ranks = []\n",
    "rank = []\n",
    "list_ru_dict = list(ru_dict['words'])\n",
    "for x in res:\n",
    "    for y in x:\n",
    "        if y!='':\n",
    "            if y in dic_ru.keys():\n",
    "                rank.append(dic_ru[y])\n",
    "            else:\n",
    "                rank.append(len_ru_dict)\n",
    "    if rank:\n",
    "        ranks.append(max(rank))\n",
    "    rank.clear()\n"
   ]
  },
  {
   "cell_type": "code",
   "execution_count": 18,
   "metadata": {},
   "outputs": [
    {
     "data": {
      "image/png": "[encoded data removed]",
      "text/plain": [
       "<Figure size 432x288 with 1 Axes>"
      ]
     },
     "metadata": {},
     "output_type": "display_data"
    }
   ],
   "source": [
    "plt.hist(ranks, density=True, bins=30 ,facecolor='green',alpha=0.5);"
   ]
  },
  {
   "cell_type": "markdown",
   "metadata": {},
   "source": [
    "### ukr"
   ]
  },
  {
   "cell_type": "code",
   "execution_count": 19,
   "metadata": {},
   "outputs": [],
   "source": [
    "res = []\n",
    "uk_sen_splitted_by_dot = []\n",
    "with open('uk_res.txt', 'r') as f:\n",
    "    uk_sen = f.read().splitlines()\n",
    "for x in uk_sen:\n",
    "    uk_sen_splitted_by_dot.append(re.split('\\.', x))\n",
    "for sentence in uk_sen_splitted_by_dot:\n",
    "        for x in sentence:\n",
    "            res.append(re.split('[^а-яА-ЯїіҐґЄєЇїІі]+', x))\n",
    "for num1, sen in enumerate(res):\n",
    "        for num2, senn in enumerate(sen):\n",
    "                sen[num2] = senn.lower()\n",
    "res = [x for x in res if x!=['']]"
   ]
  },
  {
   "cell_type": "code",
   "execution_count": 20,
   "metadata": {},
   "outputs": [],
   "source": [
    "ranks = []\n",
    "rank = []\n",
    "list_uk_dict = list(uk_dict['words'])\n",
    "for x in res:\n",
    "    for y in x:\n",
    "        if y!='':\n",
    "            if y in dic_ukr.keys():\n",
    "                rank.append(dic_ukr[y])\n",
    "            else:\n",
    "                rank.append(len_uk_dict)\n",
    "    if rank:\n",
    "        ranks.append(max(rank))\n",
    "    rank.clear()\n",
    "    "
   ]
  },
  {
   "cell_type": "code",
   "execution_count": 21,
   "metadata": {},
   "outputs": [
    {
     "data": {
      "image/png": "[encoded data removed]",
      "text/plain": [
       "<Figure size 432x288 with 1 Axes>"
      ]
     },
     "metadata": {},
     "output_type": "display_data"
    }
   ],
   "source": [
    "plt.hist(ranks, density=True,bins=30, facecolor='green', alpha=0.5);"
   ]
  },
  {
   "cell_type": "code",
   "execution_count": null,
   "metadata": {},
   "outputs": [],
   "source": []
  },
  {
   "cell_type": "code",
   "execution_count": null,
   "metadata": {},
   "outputs": [],
   "source": []
  }
 ],
 "metadata": {
  "kernelspec": {
   "display_name": "Python 3",
   "language": "python",
   "name": "python3"
  },
  "language_info": {
   "codemirror_mode": {
    "name": "ipython",
    "version": 3
   },
   "file_extension": ".py",
   "mimetype": "text/x-python",
   "name": "python",
   "nbconvert_exporter": "python",
   "pygments_lexer": "ipython3",
   "version": "3.6.5"
  }
 },
 "nbformat": 4,
 "nbformat_minor": 2
}
